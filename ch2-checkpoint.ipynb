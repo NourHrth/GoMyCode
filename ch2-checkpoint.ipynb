{
 "cells": [
  {
   "cell_type": "code",
   "execution_count": 1,
   "id": "ec8584a0",
   "metadata": {},
   "outputs": [
    {
     "name": "stdout",
     "output_type": "stream",
     "text": [
      "enter your name : 22\n",
      "enter your last name : 555\n",
      "555 22\n"
     ]
    }
   ],
   "source": [
    "# Q1\n",
    "firstname=input(\"enter your name : \")\n",
    "lastname=input(\"enter your last name : \")\n",
    "print(lastname,firstname)"
   ]
  },
  {
   "cell_type": "code",
   "execution_count": 2,
   "id": "81d47c57",
   "metadata": {},
   "outputs": [
    {
     "name": "stdout",
     "output_type": "stream",
     "text": [
      "enter a n : 55\n",
      "6765\n"
     ]
    }
   ],
   "source": [
    "# Q2\n",
    "n=int(input(\"enter a n : \"))\n",
    "res=n+n*11+n*111\n",
    "print(res)"
   ]
  },
  {
   "cell_type": "code",
   "execution_count": 3,
   "id": "5e6996ed",
   "metadata": {},
   "outputs": [
    {
     "name": "stdout",
     "output_type": "stream",
     "text": [
      "enter n : 44\n",
      "your number is even\n"
     ]
    }
   ],
   "source": [
    "# Q3\n",
    "n=int(input(\"enter n : \"))\n",
    "if n%2==0:\n",
    "    print(\"your number is even\")\n",
    "else:\n",
    "    print(\"your number is odd\")"
   ]
  },
  {
   "cell_type": "code",
   "execution_count": 4,
   "id": "94afb5fc",
   "metadata": {},
   "outputs": [
    {
     "name": "stdout",
     "output_type": "stream",
     "text": [
      "2002 2009 2016 2023 2037 2044 2051 2058 2072 2079 2086 2093 2107 2114 2121 2128 2142 2149 2156 2163 2177 2184 2191 2198 2212 2219 2226 2233 2247 2254 2261 2268 2282 2289 2296 2303 2317 2324 2331 2338 2352 2359 2366 2373 2387 2394 2401 2408 2422 2429 2436 2443 2457 2464 2471 2478 2492 2499 2506 2513 2527 2534 2541 2548 2562 2569 2576 2583 2597 2604 2611 2618 2632 2639 2646 2653 2667 2674 2681 2688 2702 2709 2716 2723 2737 2744 2751 2758 2772 2779 2786 2793 2807 2814 2821 2828 2842 2849 2856 2863 2877 2884 2891 2898 2912 2919 2926 2933 2947 2954 2961 2968 2982 2989 2996 3003 3017 3024 3031 3038 3052 3059 3066 3073 3087 3094 3101 3108 3122 3129 3136 3143 3157 3164 3171 3178 3192 3199 "
     ]
    }
   ],
   "source": [
    "# Q4\n",
    "for i in range(2000,3201):\n",
    "    if i%7==0 and i%5!=0:\n",
    "        print(i,end=\" \")\n",
    "        "
   ]
  },
  {
   "cell_type": "code",
   "execution_count": 5,
   "id": "6104bee6",
   "metadata": {},
   "outputs": [
    {
     "name": "stdout",
     "output_type": "stream",
     "text": [
      "enter a number : 2\n",
      "!2 = 1\n",
      "!2 = 1 * 2 =  2\n"
     ]
    }
   ],
   "source": [
    "# Q5\n",
    "n=int(input(\"enter a number : \"))\n",
    "msg = str(\"!\"+str(n)+\" = 1\")\n",
    "print(msg)\n",
    "x = 1\n",
    "for i in range (2,n+1):\n",
    "    x = x * i\n",
    "    msg = msg + \" * \"+str(i)\n",
    "print(msg+\" = \",x)    "
   ]
  },
  {
   "cell_type": "code",
   "execution_count": 11,
   "id": "91c9cd16",
   "metadata": {},
   "outputs": [
    {
     "name": "stdout",
     "output_type": "stream",
     "text": [
      "enter a name : nour\n",
      "or\n"
     ]
    }
   ],
   "source": [
    "# Q6\n",
    "str1=input(\"enter a name : \")\n",
    "for i in range (len(str1)):\n",
    "    if i%2+1!=0:\n",
    "        str1 = str1[:i]+str1[i+1::]\n",
    "print(str1)"
   ]
  },
  {
   "cell_type": "code",
   "execution_count": 16,
   "id": "7e651263",
   "metadata": {},
   "outputs": [
    {
     "name": "stdout",
     "output_type": "stream",
     "text": [
      "enter a number : 100\n",
      "discount= 90.0 $\n"
     ]
    }
   ],
   "source": [
    "# Q7\n",
    "budget=int(input(\"enter a number : \"))\n",
    "if budget>=500:\n",
    "    budget1=(budget*50)/100\n",
    "elif budget>=200 and budget<500:\n",
    "    budget1=(budget*30)/100\n",
    "else:\n",
    "    budget1=(budget*10)/100\n",
    "print(\"discount=\", budget-budget1, \"$\")"
   ]
  },
  {
   "cell_type": "code",
   "execution_count": null,
   "id": "f791f122",
   "metadata": {},
   "outputs": [],
   "source": []
  }
 ],
 "metadata": {
  "kernelspec": {
   "display_name": "Python 3 (ipykernel)",
   "language": "python",
   "name": "python3"
  },
  "language_info": {
   "codemirror_mode": {
    "name": "ipython",
    "version": 3
   },
   "file_extension": ".py",
   "mimetype": "text/x-python",
   "name": "python",
   "nbconvert_exporter": "python",
   "pygments_lexer": "ipython3",
   "version": "3.9.13"
  }
 },
 "nbformat": 4,
 "nbformat_minor": 5
}
